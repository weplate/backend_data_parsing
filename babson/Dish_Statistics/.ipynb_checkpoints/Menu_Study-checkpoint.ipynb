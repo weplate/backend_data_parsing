{
 "cells": [
  {
   "cell_type": "code",
   "execution_count": 2,
   "id": "ee3d4041",
   "metadata": {},
   "outputs": [],
   "source": [
    "import pandas as pd\n",
    "import os"
   ]
  },
  {
   "cell_type": "code",
   "execution_count": 3,
   "id": "8f753488",
   "metadata": {},
   "outputs": [
    {
     "data": {
      "text/html": [
       "<div>\n",
       "<style scoped>\n",
       "    .dataframe tbody tr th:only-of-type {\n",
       "        vertical-align: middle;\n",
       "    }\n",
       "\n",
       "    .dataframe tbody tr th {\n",
       "        vertical-align: top;\n",
       "    }\n",
       "\n",
       "    .dataframe thead th {\n",
       "        text-align: right;\n",
       "    }\n",
       "</style>\n",
       "<table border=\"1\" class=\"dataframe\">\n",
       "  <thead>\n",
       "    <tr style=\"text-align: right;\">\n",
       "      <th></th>\n",
       "      <th>group</th>\n",
       "      <th>timestamp</th>\n",
       "      <th>name</th>\n",
       "      <th>items</th>\n",
       "      <th>week_num</th>\n",
       "      <th>items_recipe_num</th>\n",
       "      <th>pk</th>\n",
       "    </tr>\n",
       "  </thead>\n",
       "  <tbody>\n",
       "    <tr>\n",
       "      <th>0</th>\n",
       "      <td>afterlunch</td>\n",
       "      <td>2022-03-06 14:30:00Z</td>\n",
       "      <td>Afterlunch on Sunday, March 06, 2022</td>\n",
       "      <td>[]</td>\n",
       "      <td>9</td>\n",
       "      <td>['102407', '44726.1', '14920', '82258.7']</td>\n",
       "      <td>1000</td>\n",
       "    </tr>\n",
       "    <tr>\n",
       "      <th>1</th>\n",
       "      <td>breakfast</td>\n",
       "      <td>2022-03-06 07:30:00Z</td>\n",
       "      <td>Breakfast on Sunday, March 06, 2022</td>\n",
       "      <td>[1030, 1012, 1022, 1037, 1025]</td>\n",
       "      <td>9</td>\n",
       "      <td>['2032.23', '18451.22', '616.22', '1125.10', '...</td>\n",
       "      <td>1001</td>\n",
       "    </tr>\n",
       "    <tr>\n",
       "      <th>2</th>\n",
       "      <td>dinner</td>\n",
       "      <td>2022-03-06 16:30:00Z</td>\n",
       "      <td>Dinner on Sunday, March 06, 2022</td>\n",
       "      <td>[1126, 1145, 1147, 1135, 1149, 1169, 1188, 117...</td>\n",
       "      <td>9</td>\n",
       "      <td>['102098', '4490', '2402', '103772', '33992.8'...</td>\n",
       "      <td>1002</td>\n",
       "    </tr>\n",
       "  </tbody>\n",
       "</table>\n",
       "</div>"
      ],
      "text/plain": [
       "        group             timestamp                                  name  \\\n",
       "0  afterlunch  2022-03-06 14:30:00Z  Afterlunch on Sunday, March 06, 2022   \n",
       "1   breakfast  2022-03-06 07:30:00Z   Breakfast on Sunday, March 06, 2022   \n",
       "2      dinner  2022-03-06 16:30:00Z      Dinner on Sunday, March 06, 2022   \n",
       "\n",
       "                                               items  week_num  \\\n",
       "0                                                 []         9   \n",
       "1                     [1030, 1012, 1022, 1037, 1025]         9   \n",
       "2  [1126, 1145, 1147, 1135, 1149, 1169, 1188, 117...         9   \n",
       "\n",
       "                                    items_recipe_num    pk  \n",
       "0          ['102407', '44726.1', '14920', '82258.7']  1000  \n",
       "1  ['2032.23', '18451.22', '616.22', '1125.10', '...  1001  \n",
       "2  ['102098', '4490', '2402', '103772', '33992.8'...  1002  "
      ]
     },
     "execution_count": 3,
     "metadata": {},
     "output_type": "execute_result"
    }
   ],
   "source": [
    "MENU_LATEST =  os.path.dirname(os.getcwd())+'/master_menu/menu.csv'\n",
    "NUTRITION_SUPERMASTER_LATEST = 'super_master_nutrition/supermaster.csv'\n",
    "df = pd.read_csv(MENU_LATEST)\n",
    "df_n = pd.read_csv(NUTRITION_SUPERMASTER_LATEST,converters={'cafeteria_id': lambda x: str(x), 'category': lambda x: str(x)})\n",
    "\n",
    "df.head(3)"
   ]
  },
  {
   "cell_type": "code",
   "execution_count": 4,
   "id": "4a4d2311",
   "metadata": {},
   "outputs": [],
   "source": [
    "df['items'] = df['items'].apply(lambda x:eval(x))\n",
    "df['items_recipe_num'] = df['items_recipe_num'].apply(lambda x: eval(x))"
   ]
  },
  {
   "cell_type": "code",
   "execution_count": 5,
   "id": "f50eecd4",
   "metadata": {},
   "outputs": [],
   "source": [
    "DELTA=[]\n",
    "for index, row in df.iterrows():\n",
    "    DELTA.append(len(row['items_recipe_num'])-len(row['items']))"
   ]
  },
  {
   "cell_type": "code",
   "execution_count": 6,
   "id": "85aafb16",
   "metadata": {},
   "outputs": [],
   "source": [
    "row_index = []\n",
    "for index, row in df.iterrows():\n",
    "    if len(row['items_recipe_num'])-len(row['items'])>0:\n",
    "    #if len(row['items']) == 0 and len(row['items_recipe_num'])>0:\n",
    "        row_index.append(index)"
   ]
  },
  {
   "cell_type": "code",
   "execution_count": 7,
   "id": "695f7628",
   "metadata": {},
   "outputs": [
    {
     "name": "stdout",
     "output_type": "stream",
     "text": [
      "[0, 1, 2, 3, 4, 5, 6, 7, 8, 9, 10, 11, 12, 13, 14, 15, 16, 17, 18, 19, 20, 21, 22, 23, 24, 25, 26, 27, 28, 29, 30, 31, 32, 33, 34, 35, 36, 37, 38, 39, 40, 41, 42, 43, 44, 45, 46, 47, 48, 49, 50, 51, 52, 53, 54, 56, 57, 58, 59, 60, 61, 62, 63, 64, 65, 66, 67, 68, 69, 70, 71, 72, 73, 74, 75, 76, 77, 78, 79, 80, 81, 82, 83, 84, 85, 86, 87, 88, 89, 90, 91, 92, 93, 94, 95, 96, 97, 98, 99, 100, 101, 102, 103, 104, 105, 106, 107, 108, 109, 110, 111, 112, 113, 114, 115, 116, 117, 118, 119]\n"
     ]
    }
   ],
   "source": [
    "print(row_index)"
   ]
  },
  {
   "cell_type": "code",
   "execution_count": 11,
   "id": "2824bee6",
   "metadata": {},
   "outputs": [],
   "source": [
    "MISSING_DISHES = []\n",
    "BAD_UNITS_COUNT = []\n",
    "BAD_UNITS=[]\n",
    "for i in row_index:\n",
    "    missing_dishes = df.loc[i, 'items_recipe_num']\n",
    "    u = []\n",
    "    for h in missing_dishes:\n",
    "        mm = df_n.loc[df_n[df_n['cafeteria_id'] == h].index, 'portion_volume']\n",
    "        if mm.empty is True:\n",
    "            u.append('')\n",
    "        else:\n",
    "            try:\n",
    "                float(mm)\n",
    "            except:\n",
    "                u.append(mm.values.tolist()[0])\n",
    "    if u.count('') == len(u):\n",
    "        MISSING_DISHES.append(u.count(''))\n",
    "        BAD_UNITS_COUNT.append(0)\n",
    "        BAD_UNITS.append(None)\n",
    "    else:\n",
    "        MISSING_DISHES.append(u.count(''))\n",
    "        BAD_UNITS_COUNT.append(len(u)-u.count(''))  \n",
    "        BAD_UNITS.append(list(filter(('').__ne__, u)))"
   ]
  },
  {
   "cell_type": "code",
   "execution_count": 9,
   "id": "264d9430",
   "metadata": {},
   "outputs": [],
   "source": [
    "UNITS_COUNT = [None for i in range(len(df))]\n",
    "UNITS = [None for i in range(len(df))]\n",
    "DISHES = [None for i in range(len(df))]\n",
    "k_unit_c = list(zip(row_index, BAD_UNITS_COUNT))\n",
    "k_unit = list(zip(row_index, BAD_UNITS))\n",
    "k_dish = list(zip(row_index, MISSING_DISHES))\n",
    "for kk in k_unit:\n",
    "    UNITS[kk[0]] = kk[1]\n",
    "    \n",
    "for kk in k_unit_c:\n",
    "    UNITS_COUNT[kk[0]] = kk[1]\n",
    "    \n",
    "for kk in k_dish:\n",
    "    DISHES[kk[0]] = kk[1]\n",
    "\n",
    "df['num_missing_Dish'] = DELTA\n",
    "df['num_bad_units'] = UNITS_COUNT\n",
    "df['num_missing_FDA'] = DISHES\n",
    "df['bad_units'] = UNITS"
   ]
  },
  {
   "cell_type": "code",
   "execution_count": 10,
   "id": "b5a1d3ed",
   "metadata": {},
   "outputs": [],
   "source": [
    "df.to_csv('Menu_Study_Analysis.csv')"
   ]
  },
  {
   "cell_type": "code",
   "execution_count": null,
   "id": "70085d4f",
   "metadata": {},
   "outputs": [],
   "source": []
  }
 ],
 "metadata": {
  "kernelspec": {
   "display_name": "Python 3 (ipykernel)",
   "language": "python",
   "name": "python3"
  },
  "language_info": {
   "codemirror_mode": {
    "name": "ipython",
    "version": 3
   },
   "file_extension": ".py",
   "mimetype": "text/x-python",
   "name": "python",
   "nbconvert_exporter": "python",
   "pygments_lexer": "ipython3",
   "version": "3.9.7"
  }
 },
 "nbformat": 4,
 "nbformat_minor": 5
}
