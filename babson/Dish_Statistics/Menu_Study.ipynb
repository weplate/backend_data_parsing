{
 "cells": [
  {
   "cell_type": "code",
   "execution_count": 28,
   "id": "ee3d4041",
   "metadata": {},
   "outputs": [],
   "source": [
    "import pandas as pd\n",
    "import os"
   ]
  },
  {
   "cell_type": "code",
   "execution_count": 80,
   "id": "8f753488",
   "metadata": {},
   "outputs": [
    {
     "data": {
      "text/html": [
       "<div>\n",
       "<style scoped>\n",
       "    .dataframe tbody tr th:only-of-type {\n",
       "        vertical-align: middle;\n",
       "    }\n",
       "\n",
       "    .dataframe tbody tr th {\n",
       "        vertical-align: top;\n",
       "    }\n",
       "\n",
       "    .dataframe thead th {\n",
       "        text-align: right;\n",
       "    }\n",
       "</style>\n",
       "<table border=\"1\" class=\"dataframe\">\n",
       "  <thead>\n",
       "    <tr style=\"text-align: right;\">\n",
       "      <th></th>\n",
       "      <th>group</th>\n",
       "      <th>timestamp</th>\n",
       "      <th>name</th>\n",
       "      <th>items</th>\n",
       "      <th>week_num</th>\n",
       "      <th>items_recipe_num</th>\n",
       "      <th>pk</th>\n",
       "    </tr>\n",
       "  </thead>\n",
       "  <tbody>\n",
       "    <tr>\n",
       "      <th>0</th>\n",
       "      <td>afterlunch</td>\n",
       "      <td>2022-03-06 14:30:00Z</td>\n",
       "      <td>Afterlunch on Sunday, March 06, 2022</td>\n",
       "      <td>[]</td>\n",
       "      <td>9</td>\n",
       "      <td>['102407', '44726.1', '14920', '82258.7']</td>\n",
       "      <td>1000</td>\n",
       "    </tr>\n",
       "    <tr>\n",
       "      <th>1</th>\n",
       "      <td>breakfast</td>\n",
       "      <td>2022-03-06 07:30:00Z</td>\n",
       "      <td>Breakfast on Sunday, March 06, 2022</td>\n",
       "      <td>[1047, 1021, 1014, 1036, 1037, 1056, 1040]</td>\n",
       "      <td>9</td>\n",
       "      <td>['2032.23', '18451.22', '616.22', '1125.10', '...</td>\n",
       "      <td>1001</td>\n",
       "    </tr>\n",
       "    <tr>\n",
       "      <th>2</th>\n",
       "      <td>dinner</td>\n",
       "      <td>2022-03-06 16:30:00Z</td>\n",
       "      <td>Dinner on Sunday, March 06, 2022</td>\n",
       "      <td>[1208, 1236, 1238, 1223, 1240, 1267, 1294, 127...</td>\n",
       "      <td>9</td>\n",
       "      <td>['102098', '4490', '2402', '103772', '33992.8'...</td>\n",
       "      <td>1002</td>\n",
       "    </tr>\n",
       "  </tbody>\n",
       "</table>\n",
       "</div>"
      ],
      "text/plain": [
       "        group             timestamp                                  name  \\\n",
       "0  afterlunch  2022-03-06 14:30:00Z  Afterlunch on Sunday, March 06, 2022   \n",
       "1   breakfast  2022-03-06 07:30:00Z   Breakfast on Sunday, March 06, 2022   \n",
       "2      dinner  2022-03-06 16:30:00Z      Dinner on Sunday, March 06, 2022   \n",
       "\n",
       "                                               items  week_num  \\\n",
       "0                                                 []         9   \n",
       "1         [1047, 1021, 1014, 1036, 1037, 1056, 1040]         9   \n",
       "2  [1208, 1236, 1238, 1223, 1240, 1267, 1294, 127...         9   \n",
       "\n",
       "                                    items_recipe_num    pk  \n",
       "0          ['102407', '44726.1', '14920', '82258.7']  1000  \n",
       "1  ['2032.23', '18451.22', '616.22', '1125.10', '...  1001  \n",
       "2  ['102098', '4490', '2402', '103772', '33992.8'...  1002  "
      ]
     },
     "execution_count": 80,
     "metadata": {},
     "output_type": "execute_result"
    }
   ],
   "source": [
    "MENU_LATEST =  os.path.dirname(os.getcwd())+'/master_menu/menu.csv'\n",
    "NUTRITION_SUPERMASTER_LATEST = 'super_master_nutrition/supermaster.csv'\n",
    "df = pd.read_csv(MENU_LATEST)\n",
    "df_n = pd.read_csv(NUTRITION_SUPERMASTER_LATEST,converters={'cafeteria_id': lambda x: str(x), 'category': lambda x: str(x)})\n",
    "\n",
    "df.head(3)"
   ]
  },
  {
   "cell_type": "code",
   "execution_count": 81,
   "id": "4a4d2311",
   "metadata": {},
   "outputs": [],
   "source": [
    "df['items'] = df['items'].apply(lambda x:eval(x))\n",
    "df['items_recipe_num'] = df['items_recipe_num'].apply(lambda x: eval(x))"
   ]
  },
  {
   "cell_type": "code",
   "execution_count": 82,
   "id": "f50eecd4",
   "metadata": {},
   "outputs": [],
   "source": [
    "DELTA=[]\n",
    "for index, row in df.iterrows():\n",
    "    DELTA.append(len(row['items_recipe_num'])-len(row['items']))"
   ]
  },
  {
   "cell_type": "code",
   "execution_count": 83,
   "id": "85aafb16",
   "metadata": {},
   "outputs": [],
   "source": [
    "row_index = []\n",
    "for index, row in df.iterrows():\n",
    "    if len(row['items_recipe_num'])-len(row['items'])>0:\n",
    "    #if len(row['items']) == 0 and len(row['items_recipe_num'])>0:\n",
    "        row_index.append(index)"
   ]
  },
  {
   "cell_type": "code",
   "execution_count": 84,
   "id": "695f7628",
   "metadata": {},
   "outputs": [
    {
     "name": "stdout",
     "output_type": "stream",
     "text": [
      "[0, 2, 4, 6, 7, 8, 9, 10, 11, 12, 13, 14, 15, 16, 18, 19, 20, 21, 22, 23, 24, 26, 27, 28, 30, 32, 34, 35, 36, 38, 39, 40, 41, 42, 43, 44, 46, 47, 48, 50, 51, 52, 54, 56, 57, 58, 59, 60, 61, 62, 63, 64, 66, 67, 68, 69, 70, 71, 72, 74, 75, 76, 78, 79, 80, 82, 83, 84, 85, 86, 87, 88, 90, 91, 92, 94, 95, 96, 97, 98, 99, 100, 102, 103, 104, 106, 107, 108, 110, 112, 114, 116, 118, 119]\n"
     ]
    }
   ],
   "source": [
    "print(row_index)"
   ]
  },
  {
   "cell_type": "code",
   "execution_count": 85,
   "id": "2824bee6",
   "metadata": {},
   "outputs": [],
   "source": [
    "MISSING_DISHES = []\n",
    "BAD_UNITS_COUNT = []\n",
    "BAD_UNITS=[]\n",
    "BAD_UNITS_DISHES = []\n",
    "for i in row_index:\n",
    "    missing_dishes = df.loc[i, 'items_recipe_num']\n",
    "    u = []\n",
    "    d = []\n",
    "    for h in missing_dishes:\n",
    "        mm = df_n.loc[df_n[df_n['cafeteria_id'] == h].index, 'portion_volume']\n",
    "        if mm.empty is True:\n",
    "            u.append('')\n",
    "        else:\n",
    "            try:\n",
    "                float(mm)\n",
    "            except:\n",
    "                u.append(mm.values.tolist()[0])\n",
    "                d.append(h)\n",
    "    if u.count('') == len(u):\n",
    "        MISSING_DISHES.append(u.count(''))\n",
    "        BAD_UNITS_COUNT.append(0)\n",
    "        BAD_UNITS.append(None)\n",
    "        BAD_UNITS_DISHES.append(None)\n",
    "    else:\n",
    "        MISSING_DISHES.append(u.count(''))\n",
    "        BAD_UNITS_COUNT.append(len(u)-u.count(''))  \n",
    "        BAD_UNITS.append(list(filter(('').__ne__, u)))\n",
    "        BAD_UNITS_DISHES.append(d)"
   ]
  },
  {
   "cell_type": "code",
   "execution_count": 86,
   "id": "264d9430",
   "metadata": {},
   "outputs": [],
   "source": [
    "UNITS_COUNT = [None for i in range(len(df))]\n",
    "UNITS = [None for i in range(len(df))]\n",
    "DISHES = [None for i in range(len(df))]\n",
    "BAD_DISHES =  [None for i in range(len(df))]\n",
    "\n",
    "k_unit_c = list(zip(row_index, BAD_UNITS_COUNT))\n",
    "k_unit = list(zip(row_index, BAD_UNITS))\n",
    "k_dish = list(zip(row_index, MISSING_DISHES))\n",
    "k_bad_dish = list(zip(row_index, BAD_UNITS_DISHES))\n",
    "for kk in k_unit:\n",
    "    UNITS[kk[0]] = kk[1]\n",
    "    \n",
    "for kk in k_unit_c:\n",
    "    UNITS_COUNT[kk[0]] = kk[1]\n",
    "    \n",
    "for kk in k_dish:\n",
    "    DISHES[kk[0]] = kk[1]\n",
    "\n",
    "for kk in k_bad_dish:\n",
    "    BAD_DISHES[kk[0]] = kk[1]\n",
    "    \n",
    "df['num_missing_Dish'] = DELTA\n",
    "df['num_bad_units'] = UNITS_COUNT\n",
    "df['num_missing_FDA'] = DISHES\n",
    "df['bad_units'] = UNITS\n",
    "df['bad_units_dishes'] = BAD_DISHES"
   ]
  },
  {
   "cell_type": "code",
   "execution_count": 87,
   "id": "d4ab5e23",
   "metadata": {},
   "outputs": [],
   "source": [
    "df.to_csv('Menu_Study_Analysis.csv', index=False)"
   ]
  }
 ],
 "metadata": {
  "kernelspec": {
   "display_name": "Python 3 (ipykernel)",
   "language": "python",
   "name": "python3"
  },
  "language_info": {
   "codemirror_mode": {
    "name": "ipython",
    "version": 3
   },
   "file_extension": ".py",
   "mimetype": "text/x-python",
   "name": "python",
   "nbconvert_exporter": "python",
   "pygments_lexer": "ipython3",
   "version": "3.9.7"
  }
 },
 "nbformat": 4,
 "nbformat_minor": 5
}
