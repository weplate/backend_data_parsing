{
 "cells": [
  {
   "cell_type": "code",
   "execution_count": 1,
   "id": "7b8d18bf",
   "metadata": {},
   "outputs": [],
   "source": [
    "import pandas as pd"
   ]
  },
  {
   "cell_type": "code",
   "execution_count": 42,
   "id": "23ff760c",
   "metadata": {},
   "outputs": [
    {
     "data": {
      "text/html": [
       "<div>\n",
       "<style scoped>\n",
       "    .dataframe tbody tr th:only-of-type {\n",
       "        vertical-align: middle;\n",
       "    }\n",
       "\n",
       "    .dataframe tbody tr th {\n",
       "        vertical-align: top;\n",
       "    }\n",
       "\n",
       "    .dataframe thead th {\n",
       "        text-align: right;\n",
       "    }\n",
       "</style>\n",
       "<table border=\"1\" class=\"dataframe\">\n",
       "  <thead>\n",
       "    <tr style=\"text-align: right;\">\n",
       "      <th></th>\n",
       "      <th>group</th>\n",
       "      <th>timestamp</th>\n",
       "      <th>name</th>\n",
       "      <th>items</th>\n",
       "      <th>week_num</th>\n",
       "      <th>items_recipe_num</th>\n",
       "      <th>pk</th>\n",
       "    </tr>\n",
       "  </thead>\n",
       "  <tbody>\n",
       "    <tr>\n",
       "      <th>0</th>\n",
       "      <td>afterlunch</td>\n",
       "      <td>2022-03-20 14:30:00Z</td>\n",
       "      <td>Afterlunch on Sunday, March 20, 2022</td>\n",
       "      <td>[]</td>\n",
       "      <td>11</td>\n",
       "      <td>[]</td>\n",
       "      <td>1000</td>\n",
       "    </tr>\n",
       "    <tr>\n",
       "      <th>1</th>\n",
       "      <td>breakfast</td>\n",
       "      <td>2022-03-20 07:30:00Z</td>\n",
       "      <td>Breakfast on Sunday, March 20, 2022</td>\n",
       "      <td>[]</td>\n",
       "      <td>11</td>\n",
       "      <td>[]</td>\n",
       "      <td>1001</td>\n",
       "    </tr>\n",
       "    <tr>\n",
       "      <th>2</th>\n",
       "      <td>dinner</td>\n",
       "      <td>2022-03-20 16:30:00Z</td>\n",
       "      <td>Dinner on Sunday, March 20, 2022</td>\n",
       "      <td>[]</td>\n",
       "      <td>11</td>\n",
       "      <td>[]</td>\n",
       "      <td>1002</td>\n",
       "    </tr>\n",
       "  </tbody>\n",
       "</table>\n",
       "</div>"
      ],
      "text/plain": [
       "        group             timestamp                                  name  \\\n",
       "0  afterlunch  2022-03-20 14:30:00Z  Afterlunch on Sunday, March 20, 2022   \n",
       "1   breakfast  2022-03-20 07:30:00Z   Breakfast on Sunday, March 20, 2022   \n",
       "2      dinner  2022-03-20 16:30:00Z      Dinner on Sunday, March 20, 2022   \n",
       "\n",
       "  items  week_num items_recipe_num    pk  \n",
       "0    []        11               []  1000  \n",
       "1    []        11               []  1001  \n",
       "2    []        11               []  1002  "
      ]
     },
     "execution_count": 42,
     "metadata": {},
     "output_type": "execute_result"
    }
   ],
   "source": [
    "MENU_LATEST = 'master_menu/menu.csv'\n",
    "\n",
    "df = pd.read_csv(MENU_LATEST)\n",
    "\n",
    "df.head(3)"
   ]
  },
  {
   "cell_type": "code",
   "execution_count": 43,
   "id": "a6322cea",
   "metadata": {},
   "outputs": [],
   "source": [
    "df['items'] = df['items'].apply(lambda x:eval(x))\n",
    "df['items_recipe_num'] = df['items_recipe_num'].apply(lambda x: eval(x))"
   ]
  },
  {
   "cell_type": "code",
   "execution_count": 46,
   "id": "9c0873af",
   "metadata": {},
   "outputs": [],
   "source": [
    "row_index = []\n",
    "for index, row in df.iterrows():\n",
    "    if len(row['items']) == 0 and len(row['items_recipe_num'])>0:\n",
    "        row_index.append(index)"
   ]
  },
  {
   "cell_type": "code",
   "execution_count": 47,
   "id": "050924ac",
   "metadata": {},
   "outputs": [
    {
     "name": "stdout",
     "output_type": "stream",
     "text": [
      "[8, 24, 28, 52, 56]\n"
     ]
    }
   ],
   "source": [
    "print(row_index)"
   ]
  },
  {
   "cell_type": "code",
   "execution_count": 52,
   "id": "070c7a21",
   "metadata": {},
   "outputs": [
    {
     "data": {
      "text/html": [
       "<div>\n",
       "<style scoped>\n",
       "    .dataframe tbody tr th:only-of-type {\n",
       "        vertical-align: middle;\n",
       "    }\n",
       "\n",
       "    .dataframe tbody tr th {\n",
       "        vertical-align: top;\n",
       "    }\n",
       "\n",
       "    .dataframe thead th {\n",
       "        text-align: right;\n",
       "    }\n",
       "</style>\n",
       "<table border=\"1\" class=\"dataframe\">\n",
       "  <thead>\n",
       "    <tr style=\"text-align: right;\">\n",
       "      <th></th>\n",
       "      <th>group</th>\n",
       "      <th>timestamp</th>\n",
       "      <th>name</th>\n",
       "      <th>items</th>\n",
       "      <th>week_num</th>\n",
       "      <th>items_recipe_num</th>\n",
       "      <th>pk</th>\n",
       "    </tr>\n",
       "  </thead>\n",
       "  <tbody>\n",
       "    <tr>\n",
       "      <th>8</th>\n",
       "      <td>afterlunch</td>\n",
       "      <td>2022-03-22 14:30:00Z</td>\n",
       "      <td>Afterlunch on Tuesday, March 22, 2022</td>\n",
       "      <td>[]</td>\n",
       "      <td>11</td>\n",
       "      <td>[47527.3, 138463, 26162, 102407, 44726.1, 8225...</td>\n",
       "      <td>1008</td>\n",
       "    </tr>\n",
       "    <tr>\n",
       "      <th>24</th>\n",
       "      <td>afterlunch</td>\n",
       "      <td>2022-03-26 14:30:00Z</td>\n",
       "      <td>Afterlunch on Saturday, March 26, 2022</td>\n",
       "      <td>[]</td>\n",
       "      <td>11</td>\n",
       "      <td>[102407, 44726.1, 82258.7, 14920]</td>\n",
       "      <td>1024</td>\n",
       "    </tr>\n",
       "    <tr>\n",
       "      <th>28</th>\n",
       "      <td>afterlunch</td>\n",
       "      <td>2022-03-27 14:30:00Z</td>\n",
       "      <td>Afterlunch on Sunday, March 27, 2022</td>\n",
       "      <td>[]</td>\n",
       "      <td>12</td>\n",
       "      <td>[102407, 44726.1, 14920, 82258.7]</td>\n",
       "      <td>1028</td>\n",
       "    </tr>\n",
       "    <tr>\n",
       "      <th>52</th>\n",
       "      <td>afterlunch</td>\n",
       "      <td>2022-04-02 14:30:00Z</td>\n",
       "      <td>Afterlunch on Saturday, April 02, 2022</td>\n",
       "      <td>[]</td>\n",
       "      <td>12</td>\n",
       "      <td>[102407, 44726.1, 82258.7, 14920, 103643.1, 10...</td>\n",
       "      <td>1052</td>\n",
       "    </tr>\n",
       "    <tr>\n",
       "      <th>56</th>\n",
       "      <td>afterlunch</td>\n",
       "      <td>2022-04-03 14:30:00Z</td>\n",
       "      <td>Afterlunch on Sunday, April 03, 2022</td>\n",
       "      <td>[]</td>\n",
       "      <td>13</td>\n",
       "      <td>[102407, 44726.1, 14920, 82258.7]</td>\n",
       "      <td>1056</td>\n",
       "    </tr>\n",
       "  </tbody>\n",
       "</table>\n",
       "</div>"
      ],
      "text/plain": [
       "         group             timestamp                                    name  \\\n",
       "8   afterlunch  2022-03-22 14:30:00Z   Afterlunch on Tuesday, March 22, 2022   \n",
       "24  afterlunch  2022-03-26 14:30:00Z  Afterlunch on Saturday, March 26, 2022   \n",
       "28  afterlunch  2022-03-27 14:30:00Z    Afterlunch on Sunday, March 27, 2022   \n",
       "52  afterlunch  2022-04-02 14:30:00Z  Afterlunch on Saturday, April 02, 2022   \n",
       "56  afterlunch  2022-04-03 14:30:00Z    Afterlunch on Sunday, April 03, 2022   \n",
       "\n",
       "   items  week_num                                   items_recipe_num    pk  \n",
       "8     []        11  [47527.3, 138463, 26162, 102407, 44726.1, 8225...  1008  \n",
       "24    []        11                  [102407, 44726.1, 82258.7, 14920]  1024  \n",
       "28    []        12                  [102407, 44726.1, 14920, 82258.7]  1028  \n",
       "52    []        12  [102407, 44726.1, 82258.7, 14920, 103643.1, 10...  1052  \n",
       "56    []        13                  [102407, 44726.1, 14920, 82258.7]  1056  "
      ]
     },
     "execution_count": 52,
     "metadata": {},
     "output_type": "execute_result"
    }
   ],
   "source": [
    "df.loc[row_index]"
   ]
  },
  {
   "cell_type": "code",
   "execution_count": null,
   "id": "c1c9cafb",
   "metadata": {},
   "outputs": [],
   "source": []
  }
 ],
 "metadata": {
  "kernelspec": {
   "display_name": "Python 3 (ipykernel)",
   "language": "python",
   "name": "python3"
  },
  "language_info": {
   "codemirror_mode": {
    "name": "ipython",
    "version": 3
   },
   "file_extension": ".py",
   "mimetype": "text/x-python",
   "name": "python",
   "nbconvert_exporter": "python",
   "pygments_lexer": "ipython3",
   "version": "3.9.7"
  }
 },
 "nbformat": 4,
 "nbformat_minor": 5
}
